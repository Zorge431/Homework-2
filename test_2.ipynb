{
  "nbformat": 4,
  "nbformat_minor": 0,
  "metadata": {
    "colab": {
      "provenance": [],
      "authorship_tag": "ABX9TyMPZRVcGcILWsPc237b/Ie0",
      "include_colab_link": true
    },
    "kernelspec": {
      "name": "python3",
      "display_name": "Python 3"
    },
    "language_info": {
      "name": "python"
    }
  },
  "cells": [
    {
      "cell_type": "markdown",
      "metadata": {
        "id": "view-in-github",
        "colab_type": "text"
      },
      "source": [
        "<a href=\"https://colab.research.google.com/github/Zorge431/Homework-2/blob/main/test_2.ipynb\" target=\"_parent\"><img src=\"https://colab.research.google.com/assets/colab-badge.svg\" alt=\"Open In Colab\"/></a>"
      ]
    },
    {
      "cell_type": "markdown",
      "source": [
        "## Задание 1"
      ],
      "metadata": {
        "id": "4VXjgNnPc7X2"
      }
    },
    {
      "cell_type": "code",
      "source": [
        "word = input('Введите слово ')\n",
        "\n",
        "if len(word) % 2 == 1:\n",
        "  print(word[len(word) // 2])\n",
        "else:\n",
        "  print(word[len(word) // 2  - 1 : len(word) // 2 + 1])"
      ],
      "metadata": {
        "colab": {
          "base_uri": "https://localhost:8080/"
        },
        "id": "v8hvYk840WP3",
        "outputId": "3c23b6eb-2f94-4a2f-eed9-835094882359"
      },
      "execution_count": null,
      "outputs": [
        {
          "output_type": "stream",
          "name": "stdout",
          "text": [
            "Введите слово карта\n",
            "р\n"
          ]
        }
      ]
    },
    {
      "cell_type": "markdown",
      "source": [
        "## Задание 2"
      ],
      "metadata": {
        "id": "Lq_nO3JceHl9"
      }
    },
    {
      "cell_type": "code",
      "source": [
        "num = 1\n",
        "sum_int = 0\n",
        "while num != 0:\n",
        "  user_input = int(input())\n",
        "  num = user_input\n",
        "  sum_int += user_input\n",
        "print(sum_int)"
      ],
      "metadata": {
        "colab": {
          "base_uri": "https://localhost:8080/"
        },
        "id": "q3eazts6zOqY",
        "outputId": "be059892-43d9-480c-c9b6-533bc87f1ae1"
      },
      "execution_count": null,
      "outputs": [
        {
          "output_type": "stream",
          "name": "stdout",
          "text": [
            "1\n",
            "2\n",
            "0\n",
            "3\n"
          ]
        }
      ]
    },
    {
      "cell_type": "markdown",
      "source": [
        "## Задание 3"
      ],
      "metadata": {
        "id": "Uzkh1lWRhPda"
      }
    },
    {
      "cell_type": "code",
      "source": [
        "list_of_boys = ['Peter', 'Alex', 'John', 'Arthur', 'Richard']\n",
        "list_of_girls = ['Kate', 'Liza', 'Kira', 'Emma', 'Trisha']\n",
        "\n",
        "if len(list_of_boys) == len(list_of_girls):\n",
        "  sorted_boys = sorted(list_of_boys)\n",
        "  sorted_girls = sorted(list_of_girls)\n",
        "  order = 0\n",
        "  print('Идеальные пары: ')\n",
        "  for boys in sorted_boys:\n",
        "    print(f'{sorted_boys[order]} и {sorted_girls[order]}')\n",
        "    order += 1\n",
        "else:\n",
        "  print('Внимание, кто-то может остаться без пары!')"
      ],
      "metadata": {
        "colab": {
          "base_uri": "https://localhost:8080/"
        },
        "id": "C7zcAIAaxkZ0",
        "outputId": "0fef4cf3-b972-46de-e422-ccd97c279d5f"
      },
      "execution_count": null,
      "outputs": [
        {
          "output_type": "stream",
          "name": "stdout",
          "text": [
            "Идеальные пары: \n",
            "Alex и Emma\n",
            "Arthur и Kate\n",
            "John и Kira\n",
            "Peter и Liza\n",
            "Richard и Trisha\n"
          ]
        }
      ]
    },
    {
      "cell_type": "markdown",
      "source": [
        "## Задание 4"
      ],
      "metadata": {
        "id": "9ZN6Mvirkn_t"
      }
    },
    {
      "cell_type": "code",
      "source": [
        "countries_temperature = [\n",
        "    ['Таиланд', [75.2, 77, 78.8, 73.4, 68, 75.2, 77]],\n",
        "    ['Германия', [57.2, 55.4, 59, 59, 53.6]],\n",
        "    ['Россия', [35.6, 37.4, 39.2, 41, 42.8, 39.2, 35.6]],\n",
        "    ['Польша', [50, 50, 53.6, 57.2, 55.4, 55.4]]\n",
        "]\n",
        "\n",
        "print(\"Средняя температура в странах:\")\n",
        "# for list_data in countries_temperature:\n",
        "#   country = list_data[0]\n",
        "#   temperature = list_data[1]\n",
        "\n",
        "#   total_temp = 0\n",
        "#   for temp in temperature:\n",
        "#     celsium_temp = (temp - 32) * 5.0 / 9.0\n",
        "#     total_temp += celsium_temp\n",
        "#   average_temp = total_temp / len(temperature)\n",
        "\n",
        "for i in countries_temperature:\n",
        "    print(i[0], '-', round((sum(i[1]) / len(i[1]) - 32) / 1.8, 1), 'C')\n",
        "\n",
        "  # print(f'{country} - {average_temp:.1f} C')"
      ],
      "metadata": {
        "colab": {
          "base_uri": "https://localhost:8080/"
        },
        "id": "okFMFRx3spQG",
        "outputId": "e110bbc6-dc33-454e-9398-bb58c7c125a2"
      },
      "execution_count": null,
      "outputs": [
        {
          "output_type": "stream",
          "name": "stdout",
          "text": [
            "Средняя температура в странах:\n",
            "Таиланд - 23.9 C\n",
            "Германия - 13.8 C\n",
            "Россия - 3.7 C\n",
            "Польша - 12.0 C\n"
          ]
        }
      ]
    },
    {
      "cell_type": "markdown",
      "source": [
        "## Задание 5"
      ],
      "metadata": {
        "id": "GZvTL2QSx5_A"
      }
    },
    {
      "cell_type": "code",
      "source": [
        "import re\n",
        "\n",
        "car_ids = ['А222ВС96', 'АБ22ВВ193']\n",
        "pattern = r'[А-Я]\\d{3}[А-Я]{2}\\d{2,3}'\n",
        "\n",
        "for ids_num in car_ids:\n",
        "  match = re.match(pattern, ids_num)\n",
        "  if match:\n",
        "    region = ids_num[-2:]\n",
        "    print(f'Номер {ids_num[:-2]} валиден. Регион: {region}')\n",
        "  else:\n",
        "    print(f'Номер {ids_num} не валиден')"
      ],
      "metadata": {
        "colab": {
          "base_uri": "https://localhost:8080/"
        },
        "id": "T0y0WYd8x3tJ",
        "outputId": "218aaf85-7f88-4f1a-e8c1-a53dc5c9c106"
      },
      "execution_count": null,
      "outputs": [
        {
          "output_type": "stream",
          "name": "stdout",
          "text": [
            "Номер А222ВС валиден. Регион: 96\n",
            "Номер АБ22ВВ193 не валиден\n"
          ]
        }
      ]
    },
    {
      "cell_type": "code",
      "source": [
        "import re\n",
        "\n",
        "car_ids = ['А222ВС96', 'АБ22ВВ193', 'А232ВВ19']\n",
        "pattern = r'[А-Я]\\d{3}[А-Я]{2}\\d{2,3}'\n",
        "\n",
        "for ids in car_ids:\n",
        "  match = re.search(pattern, ids)\n",
        "  valid_car_number = ids[:-2]\n",
        "  region = ids[-2:]\n",
        "  if match:\n",
        "    print(f'Номер {valid_car_number} валиден. Регион: {region}')\n",
        "  else:\n",
        "    print(f'Номер {ids} не валиден')"
      ],
      "metadata": {
        "colab": {
          "base_uri": "https://localhost:8080/"
        },
        "id": "GbWgh8964Bac",
        "outputId": "e44c7401-f044-4fb6-f4dd-7f04e7355c6b"
      },
      "execution_count": null,
      "outputs": [
        {
          "output_type": "stream",
          "name": "stdout",
          "text": [
            "Номер А222ВС валиден. Регион: 96\n",
            "Номер АБ22ВВ193 не валиден\n",
            "Номер А232ВВ валиден. Регион: 19\n"
          ]
        }
      ]
    },
    {
      "cell_type": "code",
      "source": [
        "import re\n",
        "\n",
        "def acronym(some_words):\n",
        "   return re.sub(r\"(\\w)\\w+\\s?\", r\"\\1\", some_words).upper()\n",
        "\n",
        "print(acronym('Информационные технологии'))\n",
        "print(acronym('Near Field Communication'))"
      ],
      "metadata": {
        "colab": {
          "base_uri": "https://localhost:8080/"
        },
        "id": "RDka5uDjOoo7",
        "outputId": "57ebe182-041a-4c91-9721-cc5932dab5bf"
      },
      "execution_count": null,
      "outputs": [
        {
          "output_type": "stream",
          "name": "stdout",
          "text": [
            "ИТ\n",
            "NFC\n"
          ]
        }
      ]
    },
    {
      "cell_type": "code",
      "source": [
        "import re\n",
        "\n",
        "some_text = '''\n",
        "Пусть в следующем году будет ещё больше вдохновения и желания учиться, расти и\n",
        "развиваться, пробовать себя в новых направлениях. А мы всегда будем рядом, поддержим\n",
        "вас и поможем. Обнимаем каждого студента, коллегу или просто приятного знакомого\n",
        "и спешим вместе в новый год.\n",
        "'''\n",
        "\n",
        "def vowel_cons(some_text: str) -> list:\n",
        "    vowels = re.findall(r\"\\b[ауоыеиэяюёАУОЫЕИЭЯЮЁaeiouyAEIOUY]\", some_text)\n",
        "    cons = len(re.findall(r\"\\b[бвгджзйклмнпрстфхцчшщБВГДЖЗЙКЛМНПРСТФХЦЧШЩbcdfghjklmnpqrstvwxzBCDFGHJKLMNPQRSTVWXZ]\", some_text))\n",
        "    return [vowels, cons]\n",
        "\n",
        "print('Слов на гласные буквы:', vowel_cons(some_text)[0], '\\nСлов на согласные буквы:', vowel_cons(some_text)[1])"
      ],
      "metadata": {
        "colab": {
          "base_uri": "https://localhost:8080/"
        },
        "id": "Sc40bUHPWhzd",
        "outputId": "de629f95-f625-483f-bdca-eba522df0d00"
      },
      "execution_count": null,
      "outputs": [
        {
          "output_type": "stream",
          "name": "stdout",
          "text": [
            "Слов на гласные буквы: ['е', 'и', 'у', 'и', 'А', 'и', 'О', 'и', 'и'] \n",
            "Слов на согласные буквы: 33\n"
          ]
        }
      ]
    },
    {
      "cell_type": "code",
      "source": [
        "import re\n",
        "\n",
        "emails = ['test@gmail.com', 'xyz@test.in', 'test@ya.ru', 'xyz@mail.ru', 'xyz@ya.ru', 'xyz@gmail.com']\n",
        "\n",
        "def counting(emails: list) -> dict:\n",
        "    dic = {}\n",
        "    for email in emails:\n",
        "      domain = re.search(r\"@(\\w+\\.\\w+)\", email).group(1)\n",
        "      if domain in dic:\n",
        "        dic[domain] +=1\n",
        "      else:\n",
        "        dic[domain] = 1\n",
        "    return dic\n",
        "\n",
        "for k, v in counting(emails).items():\n",
        "    print(k, v)"
      ],
      "metadata": {
        "colab": {
          "base_uri": "https://localhost:8080/"
        },
        "id": "m2hEf6RsecKE",
        "outputId": "c39ab082-9b27-4132-efe5-5fa64b8d80be"
      },
      "execution_count": null,
      "outputs": [
        {
          "output_type": "stream",
          "name": "stdout",
          "text": [
            "gmail.com 2\n",
            "test.in 1\n",
            "ya.ru 2\n",
            "mail.ru 1\n"
          ]
        }
      ]
    },
    {
      "cell_type": "markdown",
      "source": [
        "## Задание 6"
      ],
      "metadata": {
        "id": "BlPnpGOR7Ta2"
      }
    },
    {
      "cell_type": "code",
      "source": [
        "stream = [\n",
        "    'user4,2021-01-01;3',\n",
        "    'user3,2022-01-07;4',\n",
        "    'user2,2022-03-29;1',\n",
        "    'user1,2020-04-04;13',\n",
        "    'user2,2022-01-05;7',\n",
        "    'user1,2021-06-14;4',\n",
        "    'user3,2022-07-02;10',\n",
        "    'user4,2021-03-21;19',\n",
        "    'user4,2022-03-22;4',\n",
        "    'user4,2022-04-22;8',\n",
        "    'user4,2021-05-03;9',\n",
        "    'user4,2022-05-11;11'\n",
        "]\n",
        "\n",
        "pattern_1 = r'[\\w]{0,}'\n",
        "pattern_2 = r'[^;]+$'\n",
        "user_list = []\n",
        "\n",
        "for user in stream:\n",
        "  match_1 = re.search(pattern_1, user)\n",
        "  match_2 = re.search(pattern_2, user)\n",
        "  if match_1:\n",
        "    user_list.append(match_1)\n",
        "print(user_list)\n",
        "#Хотел создать лист с уникальными пользователями и потом просто сумму int(pattern_2) поделить на длину листа.\n",
        "#Не получается лист нормально создать"
      ],
      "metadata": {
        "id": "Mks8rgXO7W2V",
        "colab": {
          "base_uri": "https://localhost:8080/"
        },
        "outputId": "864c4aa8-47d9-401e-88a2-b3220c15037c"
      },
      "execution_count": null,
      "outputs": [
        {
          "output_type": "stream",
          "name": "stdout",
          "text": [
            "[<re.Match object; span=(0, 5), match='user4'>, <re.Match object; span=(0, 5), match='user3'>, <re.Match object; span=(0, 5), match='user2'>, <re.Match object; span=(0, 5), match='user1'>, <re.Match object; span=(0, 5), match='user2'>, <re.Match object; span=(0, 5), match='user1'>, <re.Match object; span=(0, 5), match='user3'>, <re.Match object; span=(0, 5), match='user4'>, <re.Match object; span=(0, 5), match='user4'>, <re.Match object; span=(0, 5), match='user4'>, <re.Match object; span=(0, 5), match='user4'>, <re.Match object; span=(0, 5), match='user4'>]\n"
          ]
        }
      ]
    }
  ]
}